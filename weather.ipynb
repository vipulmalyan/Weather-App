{
 "cells": [
  {
   "cell_type": "code",
   "execution_count": 1,
   "id": "89fea1af",
   "metadata": {},
   "outputs": [],
   "source": [
    "import requests"
   ]
  },
  {
   "cell_type": "code",
   "execution_count": 2,
   "id": "ab268aa8",
   "metadata": {},
   "outputs": [],
   "source": [
    "api_key = '30d4741c779ba94c470ca1f63045390a'"
   ]
  },
  {
   "cell_type": "code",
   "execution_count": 22,
   "id": "8461f7d8",
   "metadata": {},
   "outputs": [
    {
     "name": "stdout",
     "output_type": "stream",
     "text": [
      "Enter city: new delhi\n",
      "\n",
      "\u001b[1mNew Delhi,IN\u001b[0m\n",
      "Weather: Smoke\n",
      "Temperature: 23.33°C\n",
      "Pressure: 1018 hPa\n",
      "Humidity: 68%\n"
     ]
    }
   ],
   "source": [
    "user_input = input(\"Enter city: \")\n",
    "\n",
    "weather_data = requests.get(f\"https://api.openweathermap.org/data/2.5/weather?q={user_input}&units=imperial&APPID={api_key}\")\n",
    "\n",
    "if weather_data.json()['cod'] == '404':\n",
    "    print(\"No City Found\")\n",
    "else:\n",
    "    weather = weather_data.json()['weather'][0]['main']\n",
    "    \n",
    "    temp = round(weather_data.json()['main']['temp'])\n",
    "    temp = (temp - 32)* 5/9\n",
    "    temp = \"{:.2f}\".format(temp)\n",
    "    \n",
    "    press = weather_data.json()['main']['pressure']\n",
    "    \n",
    "    humidity_value = weather_data.json()['main']['humidity']\n",
    "    \n",
    "    country_name = weather_data.json()['sys']['country']\n",
    "    \n",
    "    print()\n",
    "    user_input_cap = user_input.title()\n",
    "    print(f\"\\033[1m{user_input_cap},{country_name}\\033[0m\")\n",
    "    print(f\"Weather: {weather}\")\n",
    "    print(f\"Temperature: {temp}°C\")\n",
    "    print(f\"Pressure: {press} hPa\")\n",
    "    print(f\"Humidity: {humidity_value}%\")"
   ]
  },
  {
   "cell_type": "code",
   "execution_count": 12,
   "id": "10d8ef6c",
   "metadata": {},
   "outputs": [
    {
     "data": {
      "text/plain": [
       "{'coord': {'lon': -0.1257, 'lat': 51.5085},\n",
       " 'weather': [{'id': 721,\n",
       "   'main': 'Haze',\n",
       "   'description': 'haze',\n",
       "   'icon': '50n'}],\n",
       " 'base': 'stations',\n",
       " 'main': {'temp': 31.06,\n",
       "  'feels_like': 23.67,\n",
       "  'temp_min': 29.08,\n",
       "  'temp_max': 33.15,\n",
       "  'pressure': 1006,\n",
       "  'humidity': 92},\n",
       " 'visibility': 5000,\n",
       " 'wind': {'speed': 8.05, 'deg': 340},\n",
       " 'clouds': {'all': 100},\n",
       " 'dt': 1701415434,\n",
       " 'sys': {'type': 2,\n",
       "  'id': 2075535,\n",
       "  'country': 'GB',\n",
       "  'sunrise': 1701416607,\n",
       "  'sunset': 1701446142},\n",
       " 'timezone': 0,\n",
       " 'id': 2643743,\n",
       " 'name': 'London',\n",
       " 'cod': 200}"
      ]
     },
     "execution_count": 12,
     "metadata": {},
     "output_type": "execute_result"
    }
   ],
   "source": [
    "weather_data.json()"
   ]
  }
 ],
 "metadata": {
  "kernelspec": {
   "display_name": "Python 3 (ipykernel)",
   "language": "python",
   "name": "python3"
  },
  "language_info": {
   "codemirror_mode": {
    "name": "ipython",
    "version": 3
   },
   "file_extension": ".py",
   "mimetype": "text/x-python",
   "name": "python",
   "nbconvert_exporter": "python",
   "pygments_lexer": "ipython3",
   "version": "3.11.5"
  }
 },
 "nbformat": 4,
 "nbformat_minor": 5
}
